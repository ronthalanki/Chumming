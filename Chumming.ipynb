{
 "cells": [
  {
   "cell_type": "code",
   "execution_count": null,
   "metadata": {},
   "outputs": [],
   "source": [
    "import random\n",
    "import pandas "
   ]
  },
  {
   "cell_type": "code",
   "execution_count": null,
   "metadata": {},
   "outputs": [],
   "source": [
    "class21 = [i for i in range(0,40)]\n",
    "class22 = [i for i in range(0,52)]"
   ]
  },
  {
   "cell_type": "code",
   "execution_count": null,
   "metadata": {},
   "outputs": [],
   "source": [
    "df = pandas.read_csv('pairings.csv')"
   ]
  },
  {
   "cell_type": "code",
   "execution_count": null,
   "metadata": {},
   "outputs": [],
   "source": [
    "lst = df['C21']\n",
    "lst2 = df['C22']\n",
    "exclusions = [[lst[i], lst2[i]] for i in range(len(lst))]"
   ]
  },
  {
   "cell_type": "code",
   "execution_count": null,
   "metadata": {},
   "outputs": [],
   "source": [
    "names_df = pandas.read_csv('names.csv')\n",
    "names_21 = names_df['C21']\n",
    "names_22 = names_df['C22']"
   ]
  },
  {
   "cell_type": "code",
   "execution_count": null,
   "metadata": {},
   "outputs": [],
   "source": [
    "flag = 1\n",
    "\n",
    "while flag == 1:\n",
    "    random.shuffle(class21)\n",
    "    random.shuffle(class22)\n",
    "    flag = 0\n",
    "    pairings = [[class21[i%len(class21)], class22[i]] for i in range(len(class22))]\n",
    "    \n",
    "    for i in pairings:\n",
    "        for j in exclusions:\n",
    "            if (i[0] == j[0] and i[1] == j[1]):\n",
    "                flag = 1\n",
    "pairings_names = []\n",
    "print(pairings)\n",
    "for i in range(len(pairings)):\n",
    "    pairings_names.append([names_21[pairings[i][0]],names_22[pairings[i][1]]])\n",
    "\n",
    "\n",
    "for i in pairings_names:\n",
    "    print(i)\n",
    "    \n",
    "my_df = pandas.DataFrame(pairings)\n",
    "my_df.to_csv('out.csv', index=False, header=False)"
   ]
  },
  {
   "cell_type": "code",
   "execution_count": null,
   "metadata": {},
   "outputs": [],
   "source": []
  }
 ],
 "metadata": {
  "kernelspec": {
   "display_name": "Python 3",
   "language": "python",
   "name": "python3"
  },
  "language_info": {
   "codemirror_mode": {
    "name": "ipython",
    "version": 2
   },
   "file_extension": ".py",
   "mimetype": "text/x-python",
   "name": "python",
   "nbconvert_exporter": "python",
   "pygments_lexer": "ipython2",
   "version": "2.7.15rc1"
  }
 },
 "nbformat": 4,
 "nbformat_minor": 2
}
