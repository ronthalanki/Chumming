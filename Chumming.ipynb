{
 "cells": [
  {
   "cell_type": "code",
   "execution_count": 1,
   "metadata": {},
   "outputs": [],
   "source": [
    "import random\n",
    "import pandas\n",
    "import numpy as np"
   ]
  },
  {
   "cell_type": "code",
   "execution_count": 2,
   "metadata": {},
   "outputs": [
    {
     "name": "stdout",
     "output_type": "stream",
     "text": [
      "['Amy' 'Bob' 'Charlie' 'Derek' 'Eli' 'Frank']\n",
      "[['Amy' 'Bob']\n",
      " ['Charlie' 'Derek']\n",
      " ['Charlie' 'Eli']\n",
      " ['Derek' 'Eli']]\n"
     ]
    }
   ],
   "source": [
    "df_names = pandas.read_csv('names.csv')\n",
    "df_exclusions = pandas.read_csv('exclusions.csv')\n",
    "\n",
    "names = df_names['Name'].as_matrix()\n",
    "exclusions = df_exclusions.as_matrix()\n",
    "print(names)\n",
    "print(exclusions)"
   ]
  },
  {
   "cell_type": "code",
   "execution_count": 3,
   "metadata": {},
   "outputs": [],
   "source": [
    "completed = False\n",
    "\n",
    "while not completed:\n",
    "    completed = True\n",
    "    random.shuffle(names)\n",
    "\n",
    "    for i in np.arange(0, len(names), 2):\n",
    "        #check if pairing is in exclusions\n",
    "        for j in exclusions:\n",
    "            if names[i] in j and names[i + 1] in j:\n",
    "                completed = False\n",
    "\n",
    "new_exclusions_lst = []\n",
    "for i in np.arange(0, len(names), 2):\n",
    "    new_exclusions_lst.append([names[i], names[i + 1]])\n",
    "\n",
    "df_pairings = pandas.DataFrame(new_exclusions_lst, columns=['Name 1', 'Name 2'])\n",
    "df_pairings.to_csv('exclusions.csv', mode='a', index=False, header=False)\n",
    "df_pairings.to_csv('out.csv', index=False, header=False)"
   ]
  },
  {
   "cell_type": "code",
   "execution_count": null,
   "metadata": {},
   "outputs": [],
   "source": []
  }
 ],
 "metadata": {
  "kernelspec": {
   "display_name": "Python 3",
   "language": "python",
   "name": "python3"
  },
  "language_info": {
   "codemirror_mode": {
    "name": "ipython",
    "version": 2
   },
   "file_extension": ".py",
   "mimetype": "text/x-python",
   "name": "python",
   "nbconvert_exporter": "python",
   "pygments_lexer": "ipython2",
   "version": "2.7.15rc1"
  }
 },
 "nbformat": 4,
 "nbformat_minor": 2
}
