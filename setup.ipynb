{
 "cells": [
  {
   "cell_type": "code",
   "execution_count": 1,
   "metadata": {},
   "outputs": [],
   "source": [
    "import pandas"
   ]
  },
  {
   "cell_type": "markdown",
   "metadata": {},
   "source": [
    "This notebook will help set up chumming. In order to run the notebook, you must setup <i> names.csv </i> such that groups of people that will should not be meeting each other during \n",
    "<br> \n",
    "By putting people into a certain group, that will ensure that 2 people from that group will not be paired together. <br> <br>\n",
    "\n",
    "<i>Example</i> <br>\n",
    "6 Individuals total: Amy, Bob, Charlie, Derek, Eli, Frank <br>\n",
    "\n",
    "Rules:\n",
    "Amy and Bob cannot be paired together <br>\n",
    "Charlie, Derek, and Eli cannot be paired together <br>\n",
    "\n",
    "names.csv <br>\n",
    "\n",
    "| Names | Group |\n",
    "| ------- |-------: |\n",
    "| Amy | 1 |\n",
    "| Bob | 1 |\n",
    "| Charlie | 2 |\n",
    "| Derek | 2 |\n",
    "| Eli | 2 |\n",
    "| Frank | 3 |\n",
    "\n",
    "<br> <br>\n",
    "If you also wanted to ensure that two specific people cannot meet outside of the groups that they are part of. You can add their names to the exclusions list. \n",
    "\n",
    "<i>Example </i> <br>\n",
    "Add Bob and Charlie to exclusions list. <br>\n",
    "\n",
    "exclusions.csv <br>\n",
    "\n",
    "| Name 1 | Name 2 |\n",
    "| ------- |-------: |\n",
    "| Amy | Bob |\n",
    "| Charlie | Derek |\n",
    "| Charlie | Eli |\n",
    "| Derek | Eli |\n",
    "| Bob | Charlie |"
   ]
  },
  {
   "cell_type": "code",
   "execution_count": 2,
   "metadata": {},
   "outputs": [
    {
     "name": "stdout",
     "output_type": "stream",
     "text": [
      "    Name 1 Name 2\n",
      "0      Amy    Bob\n",
      "1  Charlie  Derek\n",
      "2  Charlie    Eli\n",
      "3    Derek    Eli\n"
     ]
    }
   ],
   "source": [
    "#setting up names.csv && exclusions.csv\n",
    "df = pandas.read_csv('names.csv')\n",
    "dict_groups = {}\n",
    "\n",
    "for _, row in df.iterrows():\n",
    "    x = dict_groups.get(row['Group'], [])\n",
    "    x.append(row['Name'])\n",
    "    dict_groups[row['Group']] = x\n",
    "\n",
    "exclusions_lst = []\n",
    "for key in dict_groups:\n",
    "    curr_lst = dict_groups[key]\n",
    "    for i in range(len(curr_lst) - 1):\n",
    "        for j in range(i + 1, len(curr_lst)):\n",
    "            exclusions_lst.append([curr_lst[i], curr_lst[j]]) \n",
    "\n",
    "df_output = pandas.DataFrame(exclusions_lst, columns=['Name 1', 'Name 2'])\n",
    "print(df_output)\n",
    "df_output.to_csv('exclusions.csv', index=False)"
   ]
  },
  {
   "cell_type": "code",
   "execution_count": null,
   "metadata": {},
   "outputs": [],
   "source": []
  }
 ],
 "metadata": {
  "kernelspec": {
   "display_name": "Python 3",
   "language": "python",
   "name": "python3"
  },
  "language_info": {
   "codemirror_mode": {
    "name": "ipython",
    "version": 2
   },
   "file_extension": ".py",
   "mimetype": "text/x-python",
   "name": "python",
   "nbconvert_exporter": "python",
   "pygments_lexer": "ipython2",
   "version": "2.7.15rc1"
  }
 },
 "nbformat": 4,
 "nbformat_minor": 2
}
