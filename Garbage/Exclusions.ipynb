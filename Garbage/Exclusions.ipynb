{
 "cells": [
  {
   "cell_type": "markdown",
   "metadata": {},
   "source": [
    "# Setting up Exclusions: \n",
    "This section will set up what pairings should not be allowed and store that in \"exclusions.csv\"\n",
    "\n",
    "Do not run this section every time you need new pairings, should only be run for initial setup"
   ]
  },
  {
   "cell_type": "code",
   "execution_count": 22,
   "metadata": {},
   "outputs": [],
   "source": [
    "import pandas\n",
    "import csv"
   ]
  },
  {
   "cell_type": "code",
   "execution_count": 23,
   "metadata": {},
   "outputs": [
    {
     "name": "stdout",
     "output_type": "stream",
     "text": [
      "\n",
      "Enter the next person, -1 to quit: 1\n",
      "\n",
      "Enter the next person, -1 to quit: 2\n",
      "\n",
      "Enter the next person, -1 to quit: 3\n",
      "\n",
      "Enter the next person, -1 to quit: 4\n",
      "\n",
      "Enter the next person, -1 to quit: -1\n",
      "[1, 2, 3, 4]\n"
     ]
    }
   ],
   "source": [
    "# Run this cell to enter in a group of people that should not be paired together\n",
    "\n",
    "#e.g. Returning members can only be paired with new members, so returning member pool are excluded from one another\n",
    "# in this case, enter all of the returning members in the input below\n",
    "\n",
    "#enter -1 in order to quit the input phase\n",
    "current_person = 1\n",
    "exclusion_list = []\n",
    "\n",
    "while True:    \n",
    "    current_person = raw_input(\"\\nEnter the next person, -1 to quit: \")\n",
    "    \n",
    "    if current_person == '-1':\n",
    "        break  \n",
    "    elif current_person >= '0':\n",
    "        exclusion_list.append(int(current_person))\n",
    "\n",
    "print(exclusion_list)"
   ]
  },
  {
   "cell_type": "code",
   "execution_count": 24,
   "metadata": {},
   "outputs": [
    {
     "data": {
      "text/plain": [
       "[1, 2, 3, 4]"
      ]
     },
     "execution_count": 24,
     "metadata": {},
     "output_type": "execute_result"
    }
   ],
   "source": [
    "#verify that the you have correctly entered the group\n",
    "#you can also set this variable equal to a list of the group, e.g. exclusion_list = [1,2,3,4]\n",
    "exclusion_list"
   ]
  },
  {
   "cell_type": "code",
   "execution_count": 26,
   "metadata": {},
   "outputs": [
    {
     "name": "stdout",
     "output_type": "stream",
     "text": [
      "[[1, 2], [1, 3], [1, 4], [2, 3], [2, 4], [3, 4]]\n"
     ]
    }
   ],
   "source": [
    "#appends current exclusion_list to \"exclusions.csv\"\n",
    "fields = []\n",
    "\n",
    "for i in range(len(exclusion_list)):\n",
    "    for j in range(i + 1, len(exclusion_list)):\n",
    "        fields.append([exclusion_list[i],exclusion_list[j]])\n",
    "print(fields)\n",
    "\n",
    "with open(r'exclusions.csv', 'a') as f:\n",
    "    writer = csv.writer(f)\n",
    "    for i in fields:\n",
    "        writer.writerow(i)"
   ]
  },
  {
   "cell_type": "code",
   "execution_count": null,
   "metadata": {},
   "outputs": [],
   "source": []
  }
 ],
 "metadata": {
  "kernelspec": {
   "display_name": "Python 3",
   "language": "python",
   "name": "python3"
  }
 },
 "nbformat": 4,
 "nbformat_minor": 2
}
